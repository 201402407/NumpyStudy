{
 "cells": [
  {
   "cell_type": "code",
   "execution_count": 34,
   "metadata": {},
   "outputs": [],
   "source": [
    "import numpy as np\n",
    "import timeit\n",
    "import scipy as sp\n",
    "import scipy.stats\n",
    "import matplotlib as mpl\n",
    "import matplotlib.pyplot as plt\n",
    "import matplotlib.font_manager as fm\n",
    "from scipy.sparse import csr_matrix\n",
    "from scipy.sparse import csc_matrix\n",
    "from scipy.sparse import dok_matrix\n",
    "from scipy import linalg\n",
    "import seaborn as sns\n",
    "\n",
    "def pprint(arr):\n",
    "    print(\"type : {}\".format(type(arr)))\n",
    "    print(\"shape : {}, dimension : {}, dtype : {}\".format(arr.shape, arr.ndim, arr.dtype))\n",
    "    print(\"Array Data : \\n\", arr)"
   ]
  },
  {
   "cell_type": "code",
   "execution_count": 46,
   "metadata": {},
   "outputs": [
    {
     "name": "stdout",
     "output_type": "stream",
     "text": [
      "버전:  3.0.2\n",
      "설치 위치:  C:\\Users\\user\\AppData\\Local\\Programs\\Python\\Python36\\lib\\site-packages\\matplotlib\\__init__.py\n",
      "설정 위치:  C:\\Users\\user\\.matplotlib\n",
      "캐시 위치:  C:\\Users\\user\\.matplotlib\n",
      "설정 파일 위치:  C:\\Users\\user\\AppData\\Local\\Programs\\Python\\Python36\\lib\\site-packages\\matplotlib\\mpl-data\\matplotlibrc\n",
      "NanumBarunGothic\n"
     ]
    }
   ],
   "source": [
    "print ('버전: ', mpl.__version__)\n",
    "print ('설치 위치: ', mpl.__file__)\n",
    "print ('설정 위치: ', mpl.get_configdir())\n",
    "print ('캐시 위치: ', mpl.get_cachedir())\n",
    "print ('설정 파일 위치: ', mpl.matplotlib_fname())\n",
    "font_list = fm.findSystemFonts(fontpaths=None, fontext='ttf')\n",
    "\n",
    "# 해당 파일 목록 중 Nanum이 들어간 글꼴 경로 찾기\n",
    "[(f.name, f.fname) for f in fm.fontManager.ttflist if 'Nanum' in f.name]\n",
    "\n",
    "# path에 경로 적고 plt.rc로 폰트 설정\n",
    "path = 'C:\\\\Windows\\\\Fonts\\\\NanumBarunGothic.ttf'\n",
    "font_name = fm.FontProperties(fname=path, size=40).get_name()\n",
    "print(font_name)\n",
    "plt.rc('font', family=font_name)"
   ]
  },
  {
   "cell_type": "code",
   "execution_count": 48,
   "metadata": {},
   "outputs": [
    {
     "data": {
      "image/png": "[encoded data removed]",
      "text/plain": [
       "<Figure size 432x288 with 1 Axes>"
      ]
     },
     "metadata": {
      "needs_background": "light"
     },
     "output_type": "display_data"
    }
   ],
   "source": [
    "# 가우시안 정규 분포 객체 생성\n",
    "rv = sp.stats.norm(loc=10, scale=10) # loc(평균)는 10, scale(표준편차)는 10\n",
    "#rv.rvs(size=(3,10), random_state=1) # size(shape)는 (3,10)이고 random_state(seed)는 1\n",
    "\n",
    "# pdf 예시\n",
    "xx = np.linspace(-10, 10, 100)\n",
    "pdf = rv.pdf(xx)\n",
    "plt.plot(xx, pdf)              # xx는 x, pdf는 y 좌표 값을 가리킴\n",
    "plt.title(\"확률밀도함수 \")     # 제목(맨 위의 가운데)\n",
    "plt.xlabel(\"$x$\")              # x축 좌표 이름\n",
    "plt.ylabel(\"$p(x)$\")           # y축 좌표 이름\n",
    "plt.show()"
   ]
  },
  {
   "cell_type": "code",
   "execution_count": null,
   "metadata": {},
   "outputs": [],
   "source": []
  }
 ],
 "metadata": {
  "kernelspec": {
   "display_name": "'Python Interactive'",
   "language": "python",
   "name": "68f02236-a437-45b3-9b9a-bd1f4047fbc7"
  },
  "language_info": {
   "codemirror_mode": {
    "name": "ipython",
    "version": 3
   },
   "file_extension": ".py",
   "mimetype": "text/x-python",
   "name": "python",
   "nbconvert_exporter": "python",
   "pygments_lexer": "ipython3",
   "version": "3.6.6"
  }
 },
 "nbformat": 4,
 "nbformat_minor": 2
}
